{
 "cells": [
  {
   "cell_type": "markdown",
   "metadata": {},
   "source": [
    "SCRAPING PUBMED TO ANALYZE ENCODE PROJECT PUBLICATIONS"
   ]
  },
  {
   "cell_type": "markdown",
   "metadata": {},
   "source": [
    "Introduction:"
   ]
  },
  {
   "cell_type": "markdown",
   "metadata": {},
   "source": [
    "The Encyclopedia Of DNA Elements (ENCODE) is a colaboration of research groups funded by the National Human Genome Research Institute(NHGRI) in 2003. It was planned as a follow-up to the Human Genome Project and has already begun its fourth phase on February 2017.\n",
    "\n",
    "The aim of this project is to identify all functional elements in the human genome sequence (only the role of 1.5% of the genome is known) and build a list of functional elements in the human genome. The ENCODE Project has given researchers insight into how the human genome functions.\n",
    "All the abovementioned serve as an expansive resource for understanding human health and disease.\n",
    "\n",
    "A very important point for researchers is to be able to access the information from databases like PubMed, GEO, etc. Entrez is a data retrieval system that provides users access to NCBI’s databases manually, or by using Biopython’s Bio.Entrez module wich allows you to search PubMed or download GenBank records from within a Python script.\n"
   ]
  },
  {
   "cell_type": "markdown",
   "metadata": {},
   "source": [
    "Objective:"
   ]
  },
  {
   "cell_type": "markdown",
   "metadata": {},
   "source": [
    "To assess:\n",
    "The number of ENCODE publications per year, the number of ENCODE publications over time and the journal most published in\n",
    "\n",
    "To create several barplots to show our results"
   ]
  },
  {
   "cell_type": "markdown",
   "metadata": {},
   "source": [
    "Methods:"
   ]
  },
  {
   "cell_type": "markdown",
   "metadata": {},
   "source": [
    "In this project, we use the Bio.Entrez module to to obtain journal information from PubMed on the basis of a csv file where we had the PMIDs numbers from 690 ENTREZ papers. Our variables of interest were journal name, year of publication and name of the last author.\n",
    "\n",
    "For the barplot creation we imported the pandas library, numpy, plotly.graph_objs, plotly.plotly, and matplotlib.pyplot\n"
   ]
  },
  {
   "cell_type": "markdown",
   "metadata": {},
   "source": [
    "Code:"
   ]
  },
  {
   "cell_type": "code",
   "execution_count": 4,
   "metadata": {
    "collapsed": true
   },
   "outputs": [],
   "source": [
    "#Import modules\n",
    "import pandas as pd\n",
    "import numpy as np\n",
    "from Bio import Entrez\n",
    "import matplotlib.pyplot as plt\n",
    "import plotly\n",
    "import plotly.plotly as py\n",
    "import plotly.graph_objs as go\n",
    "from collections import Counter\n",
    "%matplotlib inline \n",
    "\n",
    "#Register with Entrez\n",
    "Entrez.email = \"maria.casal.dominguez@gmail.com\"\n",
    "\n",
    "#Define a function to grab the desired attributes of the PMIDs from PubMed\n",
    "def get_pubmed_data(pmids, attrb_list):\n",
    "   \n",
    "    \"\"\"Returns full PubMed data records for desired PMIDs in XML format. PMIDs can be found online in PubMed\n",
    "    and can be accepted individually or as a list. Desired data from PMIDs ('attrb_list')\n",
    "    can be viewed here *insert text file's github link here* \"\"\"\n",
    "        \n",
    "    pubs_list = []\n",
    "    pmid_number = len(pmids.index)\n",
    "    iteration_number = 1\n",
    "\n",
    "    while True:\n",
    "        if (iteration_number*200 > pmid_number):\n",
    "            upper_limit = pmid_number\n",
    "        else:\n",
    "            upper_limit = iteration_number*200\n",
    "\n",
    "        #Convert the CSV file into a list\n",
    "        pmids_list = pmids[\"PMID\"][iteration_number*200-200:upper_limit].to_csv(index=False)\n",
    "\n",
    "        xml_doc = Entrez.efetch(db='pubmed', id=pmids_list, retmode='xml', rettype='docsum')\n",
    "\n",
    "        for pub in Entrez.parse(xml_doc):\n",
    "            pub_attribs = []\n",
    "            for attrib in attrb_list:\n",
    "                pub_attribs.append(pub[attrib])\n",
    "            pubs_list.append(pub_attribs)\n",
    "\n",
    "        if (iteration_number*200 > pmid_number):\n",
    "            break\n",
    "        else:\n",
    "            iteration_number += 1\n",
    "\n",
    "    pd_docs = pd.DataFrame(pubs_list, columns=attrb_list)\n",
    "    \n",
    "    #Clean the data\n",
    "    pd_docs.columns = ['PMID', 'Full Journal Name', 'Last Author', 'Publication Date']\n",
    "    pd_docs['Publication Date'] = pd_docs['Publication Date'].apply(lambda x: str(x)[:4])\n",
    "    pd_docs['Full Journal Name'] = pd_docs['Full Journal Name'].apply(lambda x: str(x)[:40])\n",
    "    pd_docs[\"Author: Journal\"] = pd_docs[\"Last Author\"] + \": \" + pd_docs[\"Full Journal Name\"]\n",
    "\n",
    "    #Show the DataFrame\n",
    "    display(pd_docs.head(10))\n",
    "    print(pd_docs.shape)\n",
    "\n",
    "    #Export to .csv\n",
    "    pd_docs.to_csv(\"pd_docs.csv\")\n",
    "    \n",
    "    return pd_docs"
   ]
  },
  {
   "cell_type": "code",
   "execution_count": 5,
   "metadata": {},
   "outputs": [
    {
     "data": {
      "text/html": [
       "<div>\n",
       "<style>\n",
       "    .dataframe thead tr:only-child th {\n",
       "        text-align: right;\n",
       "    }\n",
       "\n",
       "    .dataframe thead th {\n",
       "        text-align: left;\n",
       "    }\n",
       "\n",
       "    .dataframe tbody tr th {\n",
       "        vertical-align: top;\n",
       "    }\n",
       "</style>\n",
       "<table border=\"1\" class=\"dataframe\">\n",
       "  <thead>\n",
       "    <tr style=\"text-align: right;\">\n",
       "      <th></th>\n",
       "      <th>PMID</th>\n",
       "      <th>Full Journal Name</th>\n",
       "      <th>Last Author</th>\n",
       "      <th>Publication Date</th>\n",
       "      <th>Author: Journal</th>\n",
       "    </tr>\n",
       "  </thead>\n",
       "  <tbody>\n",
       "    <tr>\n",
       "      <th>0</th>\n",
       "      <td>18665130</td>\n",
       "      <td>Nature genetics</td>\n",
       "      <td>Gingeras TR</td>\n",
       "      <td>2008</td>\n",
       "      <td>Gingeras TR: Nature genetics</td>\n",
       "    </tr>\n",
       "    <tr>\n",
       "      <th>1</th>\n",
       "      <td>17568007</td>\n",
       "      <td>Genome research</td>\n",
       "      <td>Stamatoyannopoulos JA</td>\n",
       "      <td>2007</td>\n",
       "      <td>Stamatoyannopoulos JA: Genome research</td>\n",
       "    </tr>\n",
       "    <tr>\n",
       "      <th>2</th>\n",
       "      <td>17166863</td>\n",
       "      <td>Nucleic acids research</td>\n",
       "      <td>Kent WJ</td>\n",
       "      <td>2007</td>\n",
       "      <td>Kent WJ: Nucleic acids research</td>\n",
       "    </tr>\n",
       "    <tr>\n",
       "      <th>3</th>\n",
       "      <td>17567993</td>\n",
       "      <td>Genome research</td>\n",
       "      <td>Gerstein MB</td>\n",
       "      <td>2007</td>\n",
       "      <td>Gerstein MB: Genome research</td>\n",
       "    </tr>\n",
       "    <tr>\n",
       "      <th>4</th>\n",
       "      <td>17567995</td>\n",
       "      <td>Genome research</td>\n",
       "      <td>Sidow A</td>\n",
       "      <td>2007</td>\n",
       "      <td>Sidow A: Genome research</td>\n",
       "    </tr>\n",
       "    <tr>\n",
       "      <th>5</th>\n",
       "      <td>18258921</td>\n",
       "      <td>Genome research</td>\n",
       "      <td>Liu XS</td>\n",
       "      <td>2008</td>\n",
       "      <td>Liu XS: Genome research</td>\n",
       "    </tr>\n",
       "    <tr>\n",
       "      <th>6</th>\n",
       "      <td>17568011</td>\n",
       "      <td>Genome research</td>\n",
       "      <td>Baxevanis AD</td>\n",
       "      <td>2007</td>\n",
       "      <td>Baxevanis AD: Genome research</td>\n",
       "    </tr>\n",
       "    <tr>\n",
       "      <th>7</th>\n",
       "      <td>19425134</td>\n",
       "      <td>Genome informatics. International Confer</td>\n",
       "      <td>Tullius TD</td>\n",
       "      <td>2008</td>\n",
       "      <td>Tullius TD: Genome informatics. International ...</td>\n",
       "    </tr>\n",
       "    <tr>\n",
       "      <th>8</th>\n",
       "      <td>21439813</td>\n",
       "      <td>Current opinion in structural biology</td>\n",
       "      <td>Tullius TD</td>\n",
       "      <td>2011</td>\n",
       "      <td>Tullius TD: Current opinion in structural biology</td>\n",
       "    </tr>\n",
       "    <tr>\n",
       "      <th>9</th>\n",
       "      <td>19286520</td>\n",
       "      <td>Science (New York, N.Y.)</td>\n",
       "      <td>Margulies EH</td>\n",
       "      <td>2009</td>\n",
       "      <td>Margulies EH: Science (New York, N.Y.)</td>\n",
       "    </tr>\n",
       "  </tbody>\n",
       "</table>\n",
       "</div>"
      ],
      "text/plain": [
       "       PMID                         Full Journal Name            Last Author  \\\n",
       "0  18665130                           Nature genetics            Gingeras TR   \n",
       "1  17568007                           Genome research  Stamatoyannopoulos JA   \n",
       "2  17166863                    Nucleic acids research                Kent WJ   \n",
       "3  17567993                           Genome research            Gerstein MB   \n",
       "4  17567995                           Genome research                Sidow A   \n",
       "5  18258921                           Genome research                 Liu XS   \n",
       "6  17568011                           Genome research           Baxevanis AD   \n",
       "7  19425134  Genome informatics. International Confer             Tullius TD   \n",
       "8  21439813     Current opinion in structural biology             Tullius TD   \n",
       "9  19286520                  Science (New York, N.Y.)           Margulies EH   \n",
       "\n",
       "  Publication Date                                    Author: Journal  \n",
       "0             2008                       Gingeras TR: Nature genetics  \n",
       "1             2007             Stamatoyannopoulos JA: Genome research  \n",
       "2             2007                    Kent WJ: Nucleic acids research  \n",
       "3             2007                       Gerstein MB: Genome research  \n",
       "4             2007                           Sidow A: Genome research  \n",
       "5             2008                            Liu XS: Genome research  \n",
       "6             2007                      Baxevanis AD: Genome research  \n",
       "7             2008  Tullius TD: Genome informatics. International ...  \n",
       "8             2011  Tullius TD: Current opinion in structural biology  \n",
       "9             2009             Margulies EH: Science (New York, N.Y.)  "
      ]
     },
     "metadata": {},
     "output_type": "display_data"
    },
    {
     "name": "stdout",
     "output_type": "stream",
     "text": [
      "(691, 5)\n"
     ]
    }
   ],
   "source": [
    "#Import the csv with the pmids as a DataFrame\n",
    "pmids = pd.read_csv(\"publications.csv\")\n",
    "  \n",
    "#List desired PMID attributes to get from PubMed\n",
    "attrb_list = [\"Id\", \"FullJournalName\", \"LastAuthor\", \"PubDate\"]\n",
    "\n",
    "#Call the function to grab the data\n",
    "pd_docs = get_pubmed_data(pmids, attrb_list)"
   ]
  },
  {
   "cell_type": "code",
   "execution_count": 12,
   "metadata": {
    "collapsed": true
   },
   "outputs": [],
   "source": [
    "#Define a function to sort desired data\n",
    "def get_variable(dataFrame, variable):\n",
    "    \n",
    "    \"\"\"Gets desired column data from DataFrame and sorts from most to least frequent. \n",
    "    Data are assigned to 'variable_results', data frequency is assigned to 'counts'.\"\"\"\n",
    "      \n",
    "    #Create an empty list\n",
    "    frequency_list = []\n",
    "   \n",
    "    #Fill the list with the frequency of the data\n",
    "    for i in dataFrame[variable]:\n",
    "        frequency_list.append(i)\n",
    "         \n",
    "    #Use Counter to count how many times a journal appears\n",
    "    journal_count = Counter(frequency_list)\n",
    "\n",
    "    #Sort the frequency data by most to least common\n",
    "    sorted_journal_count = journal_count.most_common()\n",
    "\n",
    "    #Create 2 new lists for the variables that you want\n",
    "    global variable_results\n",
    "    variable_results = []\n",
    "    global counts\n",
    "    counts = []\n",
    "    \n",
    "    #Fill variable_results and counts\n",
    "    for i in sorted_journal_count:\n",
    "        key, count = i\n",
    "        variable_results.append(key)\n",
    "        counts.append(count)\n",
    "\n",
    "    return variable_results, counts"
   ]
  },
  {
   "cell_type": "code",
   "execution_count": 11,
   "metadata": {},
   "outputs": [
    {
     "data": {
      "text/html": [
       "<iframe id=\"igraph\" scrolling=\"no\" style=\"border:none;\" seamless=\"seamless\" src=\"https://plot.ly/~mpagan2/8.embed\" height=\"500px\" width=\"1000px\"></iframe>"
      ],
      "text/plain": [
       "<plotly.tools.PlotlyDisplay object>"
      ]
     },
     "execution_count": 11,
     "metadata": {},
     "output_type": "execute_result"
    }
   ],
   "source": [
    "#Authenticate plotly\n",
    "plotly.tools.set_credentials_file(username='mpagan2', api_key='9oJfHnTtef1NWTokn4lI')\n",
    "\n",
    "def hbargraph(xaxis, yaxis, title):\n",
    "\n",
    "    \"\"\"Using plotly, develops a horizontal bargraph with hover-over value labels and a custom title\"\"\"\n",
    "    \n",
    "    data = [go.Bar(\n",
    "                x= xaxis,\n",
    "                y= yaxis,\n",
    "                orientation = 'h',\n",
    "                marker = dict(\n",
    "                    color = 'rgba(0, 158, 28, 0.6)',\n",
    "                    line = dict(\n",
    "                        color = 'rgba(0, 158, 28, 1.0)',\n",
    "                    width = 3))\n",
    "                )\n",
    "           ]\n",
    "\n",
    "    layout = go.Layout(\n",
    "            title = title,\n",
    "            autosize=False,\n",
    "            width=1000,\n",
    "            height=500,\n",
    "            margin=go.Margin(\n",
    "                l=300,\n",
    "                r=50,\n",
    "                b=100,\n",
    "                t=100,\n",
    "                pad=4\n",
    "            ),\n",
    "        )\n",
    "\n",
    "    fig = go.Figure(data=data, layout=layout)\n",
    "    graph = py.iplot(fig, filename=title)\n",
    "    \n",
    "    return graph\n",
    "\n",
    "#Call ‘get_variable’ to obtain the desired data to fill the horizontal bar graph with\n",
    "get_variable(pd_docs, \"Full Journal Name\")\n",
    "\n",
    "#Call ‘hbargraph’ to create the plot\n",
    "hbargraph(counts[:10], variable_results[:10], \"Top 10 Journals ENCODE Authors Publish In\")\n"
   ]
  },
  {
   "cell_type": "code",
   "execution_count": 7,
   "metadata": {},
   "outputs": [
    {
     "data": {
      "text/html": [
       "<iframe id=\"igraph\" scrolling=\"no\" style=\"border:none;\" seamless=\"seamless\" src=\"https://plot.ly/~mpagan2/12.embed\" height=\"500px\" width=\"1000px\"></iframe>"
      ],
      "text/plain": [
       "<plotly.tools.PlotlyDisplay object>"
      ]
     },
     "execution_count": 7,
     "metadata": {},
     "output_type": "execute_result"
    }
   ],
   "source": [
    "get_variable(pd_docs, \"Author: Journal\")\n",
    "hbargraph(counts[:10], variable_results[:10], \"Top 10 Journals Published In By Single ENCODE Author\")"
   ]
  },
  {
   "cell_type": "code",
   "execution_count": 8,
   "metadata": {},
   "outputs": [
    {
     "data": {
      "text/html": [
       "<iframe id=\"igraph\" scrolling=\"no\" style=\"border:none;\" seamless=\"seamless\" src=\"https://plot.ly/~mpagan2/14.embed\" height=\"500px\" width=\"1000px\"></iframe>"
      ],
      "text/plain": [
       "<plotly.tools.PlotlyDisplay object>"
      ]
     },
     "execution_count": 8,
     "metadata": {},
     "output_type": "execute_result"
    }
   ],
   "source": [
    "get_variable(pd_docs, \"Last Author\")\n",
    "hbargraph(counts[:10], variable_results[:10], \"Top 10 ENCODE Authors\")"
   ]
  },
  {
   "cell_type": "code",
   "execution_count": 9,
   "metadata": {},
   "outputs": [
    {
     "name": "stdout",
     "output_type": "stream",
     "text": [
      "High five! You successfully sent some data to your account on plotly. View your plot in your browser at https://plot.ly/~mpagan2/0 or inside your plot.ly account where it is named 'ENCODE Publications By Year'\n"
     ]
    },
    {
     "data": {
      "text/html": [
       "<iframe id=\"igraph\" scrolling=\"no\" style=\"border:none;\" seamless=\"seamless\" src=\"https://plot.ly/~mpagan2/0.embed\" height=\"525px\" width=\"100%\"></iframe>"
      ],
      "text/plain": [
       "<plotly.tools.PlotlyDisplay object>"
      ]
     },
     "execution_count": 9,
     "metadata": {},
     "output_type": "execute_result"
    }
   ],
   "source": [
    "#Define function to make bar graph\n",
    "def bargraph(xaxis, yaxis, bar_labels, title):\n",
    "\n",
    "    \"\"\"Using plotly, develops a bar graph with custom hover-over value label descriptions and a custom title\"\"\"\n",
    "    \n",
    "    trace0 = go.Bar(\n",
    "        x = xaxis,\n",
    "        y = yaxis,\n",
    "        text = bar_labels,\n",
    "        marker=dict(\n",
    "            color='rgb(153, 153, 255)',\n",
    "            line=dict(\n",
    "                color='rgb(8,48,107)',\n",
    "                width=1.5,\n",
    "            )\n",
    "        ),\n",
    "        opacity=0.6\n",
    "    )\n",
    "\n",
    "    data = [trace0]\n",
    "    layout = go.Layout(\n",
    "        title= title,\n",
    "        xaxis=dict(\n",
    "            autotick=False,\n",
    "            ticks='outside',\n",
    "            tick0=0,\n",
    "            dtick=1,\n",
    "            ticklen=8,\n",
    "            tickwidth=4,\n",
    "            tickcolor='#000'\n",
    "        ),\n",
    "    )\n",
    "\n",
    "    fig = go.Figure(data=data, layout=layout)\n",
    "    graph = py.iplot(fig, filename=title)\n",
    "    return graph\n",
    "\n",
    "#Grab unique years from \"PubDate\" column of pd_docs, sort the years, and create \"'Year' Publications\" labels\n",
    "get_year_labels = pd_docs[\"Publication Date\"].unique()\n",
    "sorted_year_labels = sorted(get_year_labels)\n",
    "labels = [i + \" Publications\" for i in sorted_year_labels]\n",
    "\n",
    "#Get x-axis years and sort chronologically\n",
    "years = pd_docs[\"Publication Date\"].unique().tolist()\n",
    "sorted_years = sorted(years)\n",
    "\n",
    "#Get y-axis values\n",
    "pubs_by_year = pd_docs.groupby('Publication Date')['PMID'].nunique().tolist()\n",
    "\n",
    "#Call the function\n",
    "bargraph(sorted_years, pubs_by_year, labels, \"ENCODE Publications By Year\")"
   ]
  },
  {
   "cell_type": "code",
   "execution_count": 10,
   "metadata": {},
   "outputs": [
    {
     "data": {
      "text/html": [
       "<iframe id=\"igraph\" scrolling=\"no\" style=\"border:none;\" seamless=\"seamless\" src=\"https://plot.ly/~mpagan2/20.embed\" height=\"525px\" width=\"100%\"></iframe>"
      ],
      "text/plain": [
       "<plotly.tools.PlotlyDisplay object>"
      ]
     },
     "execution_count": 10,
     "metadata": {},
     "output_type": "execute_result"
    }
   ],
   "source": [
    "def linegraph(xaxis, yaxis, line_labels, title):\n",
    "\n",
    "    \n",
    "    \"\"\"Using plotly, develops a line graph with custom hover-over value label descriptions and a custom title\"\"\"\n",
    "    \n",
    "    trace = go.Scatter(\n",
    "        x = xaxis,\n",
    "        y = yaxis,\n",
    "        text = line_labels,\n",
    "        marker=dict(\n",
    "                color='rgb(153, 153, 255)'\n",
    "        ),\n",
    "    )\n",
    "\n",
    "    line_layout = go.Layout(\n",
    "            title= title,\n",
    "            xaxis=dict(\n",
    "                autotick=False,\n",
    "                ticks='outside',\n",
    "                tick0=0,\n",
    "                dtick=1,\n",
    "                ticklen=8,\n",
    "                tickwidth=4,\n",
    "                tickcolor='#000'\n",
    "            ),\n",
    "    )\n",
    "\n",
    "    line = [trace]\n",
    "\n",
    "    fig = go.Figure(data=line, layout=line_layout)\n",
    "    graph = py.iplot(fig, filename='Publications Over Time')\n",
    "    \n",
    "    return graph\n",
    "\n",
    "#Sum the publications sequentially by year\n",
    "sum_pubs = np.cumsum(pubs_by_year)\n",
    "\n",
    "#Grab unique years from \"PubDate\" column of pd_docs, sort the years, and create \"Total Number of Publications in 'Year'\" labels\n",
    "get_total_year_labels = pd_docs[\"Publication Date\"].unique()\n",
    "sorted_total_year_labels = sorted(get_total_year_labels)\n",
    "total_labels = [\"Total Number of Publications in \" + i for i in sorted_total_year_labels]\n",
    "\n",
    "#Call the line graph function\n",
    "linegraph(sorted_years, sum_pubs, total_labels, \"ENCODE Publications Over Time\")"
   ]
  },
  {
   "cell_type": "code",
   "execution_count": null,
   "metadata": {
    "collapsed": true
   },
   "outputs": [],
   "source": []
  }
 ],
 "metadata": {
  "kernelspec": {
   "display_name": "Python 3",
   "language": "python",
   "name": "python3"
  },
  "language_info": {
   "codemirror_mode": {
    "name": "ipython",
    "version": 3
   },
   "file_extension": ".py",
   "mimetype": "text/x-python",
   "name": "python",
   "nbconvert_exporter": "python",
   "pygments_lexer": "ipython3",
   "version": "3.6.4"
  }
 },
 "nbformat": 4,
 "nbformat_minor": 2
}
